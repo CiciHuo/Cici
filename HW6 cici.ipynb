{
 "cells": [
  {
   "cell_type": "code",
   "execution_count": 8,
   "id": "253cf825",
   "metadata": {},
   "outputs": [
    {
     "name": "stderr",
     "output_type": "stream",
     "text": [
      "Auto-assigning NUTS sampler...\n",
      "Initializing NUTS using jitter+adapt_diag...\n",
      "Multiprocess sampling (4 chains in 4 jobs)\n",
      "NUTS: [Intercept, Beta_Density]\n"
     ]
    },
    {
     "data": {
      "text/html": [
       "\n",
       "<style>\n",
       "    /* Turns off some styling */\n",
       "    progress {\n",
       "        /* gets rid of default border in Firefox and Opera. */\n",
       "        border: none;\n",
       "        /* Needs to be in here for Safari polyfill so background images work as expected. */\n",
       "        background-size: auto;\n",
       "    }\n",
       "    progress:not([value]), progress:not([value])::-webkit-progress-bar {\n",
       "        background: repeating-linear-gradient(45deg, #7e7e7e, #7e7e7e 10px, #5c5c5c 10px, #5c5c5c 20px);\n",
       "    }\n",
       "    .progress-bar-interrupted, .progress-bar-interrupted::-webkit-progress-bar {\n",
       "        background: #F44336;\n",
       "    }\n",
       "</style>\n"
      ],
      "text/plain": [
       "<IPython.core.display.HTML object>"
      ]
     },
     "metadata": {},
     "output_type": "display_data"
    },
    {
     "data": {
      "text/html": [
       "\n",
       "    <div>\n",
       "      <progress value='12000' class='' max='12000' style='width:300px; height:20px; vertical-align: middle;'></progress>\n",
       "      100.00% [12000/12000 00:21&lt;00:00 Sampling 4 chains, 2,000 divergences]\n",
       "    </div>\n",
       "    "
      ],
      "text/plain": [
       "<IPython.core.display.HTML object>"
      ]
     },
     "metadata": {},
     "output_type": "display_data"
    },
    {
     "name": "stderr",
     "output_type": "stream",
     "text": [
      "Sampling 4 chains for 2_000 tune and 1_000 draw iterations (8_000 + 4_000 draws total) took 21 seconds.\n",
      "The rhat statistic is larger than 1.01 for some parameters. This indicates problems during sampling. See https://arxiv.org/abs/1903.08008 for details\n",
      "The effective sample size per chain is smaller than 100 for some parameters.  A higher number is needed for reliable rhat and ess computation. See https://arxiv.org/abs/1903.08008 for details\n",
      "There were 2000 divergences after tuning. Increase `target_accept` or reparameterize.\n"
     ]
    }
   ],
   "source": [
    "import pandas as pd\n",
    "import pymc as pm\n",
    "import numpy as np\n",
    "\n",
    "data_path = '/home/jovyan/STA365/World_Population.csv' \n",
    "data = pd.read_csv(data_path)\n",
    "\n",
    "median_population = data['Population (2023)'].median()\n",
    "data['Population_Above_Median'] = (data['Population (2023)'] > median_population).astype(int)\n",
    "\n",
    "X = data['Density  (P/Km²)'].values.astype(np.float64)\n",
    "y = data['Population_Above_Median'].values\n",
    "\n",
    "with pm.Model() as logistic_model:\n",
    "    intercept = pm.Normal('Intercept', mu=0, sigma=10)\n",
    "    beta_density = pm.Normal('Beta_Density', mu=0, sigma=10)\n",
    "    \n",
    "    logit_p = intercept + beta_density * X\n",
    "    y_obs = pm.Bernoulli('y_obs', pm.math.sigmoid(logit_p), observed=y)\n",
    "\n",
    "    trace = pm.sample(1000, tune=2000, target_accept=0.95, return_inferencedata=False, progressbar=True)\n"
   ]
  },
  {
   "cell_type": "markdown",
   "id": "a4c90ba2",
   "metadata": {},
   "source": [
    "# Part 2\n",
    "Bayesian inference regularizes the likelihood through the prior, enriching the analysis with estimates of uncertainty and prior knowledge, in contrast to classical methods that directly optimize a regularized objective function for point estimates."
   ]
  },
  {
   "cell_type": "code",
   "execution_count": null,
   "id": "db013d05",
   "metadata": {},
   "outputs": [],
   "source": [
    "import pandas as pd\n",
    "import pymc as pm\n",
    "import numpy as np\n",
    "import arviz as az\n",
    "\n",
    "data_path = '/home/jovyan/STA365/World_Population.csv' \n",
    "data = pd.read_csv(data_path)\n",
    "\n",
    "median_population = data['Population (2023)'].median()\n",
    "data['Population_Above_Median'] = (data['Population (2023)'] > median_population).astype(int)\n",
    "\n",
    "X = data['Density  (P/Km²)'].values.astype(np.float64)\n",
    "y = data['Population_Above_Median'].values\n",
    "\n",
    "if X.ndim == 1:\n",
    "    X = X.reshape(-1, 1)\n",
    "\n",
    "nu = 29  \n",
    "w = 1\n",
    "\n",
    "with pm.Model() as robust_model:\n",
    "    beta = pm.Normal('beta', mu=0, sigma=10, shape=X.shape[1])\n",
    "    intercept = pm.Normal('Intercept', mu=0, sigma=10)\n",
    "\n",
    "    lambda_inv_sq = pm.Gamma('lambda_inv_sq', alpha=nu/2, beta=nu/2, shape=y.shape[0])\n",
    "    \n",
    "    mu = pm.math.dot(X, beta) + intercept\n",
    "    \n",
    "    y_obs = pm.StudentT('y_obs', nu=nu, mu=mu, lam=lambda_inv_sq, observed=y)\n",
    "    \n",
    "    trace = pm.sample(1000, return_inferencedata=True)\n",
    "\n",
    "az.plot_trace(trace)\n",
    "az.summary(trace, round_to=2)\n",
    "\n",
    "lambda_inv_sq_means = np.mean(trace.posterior['lambda_inv_sq'].values, axis=(0, 1))\n",
    "outlier_threshold = np.percentile(lambda_inv_sq_means, 10)  # Adjust this threshold as needed\n",
    "outliers = np.where(lambda_inv_sq_means < outlier_threshold)[0]\n",
    "\n",
    "print(\"Potential Outliers:\", outliers)\n"
   ]
  },
  {
   "cell_type": "code",
   "execution_count": null,
   "id": "492c03cb",
   "metadata": {},
   "outputs": [],
   "source": []
  }
 ],
 "metadata": {
  "kernelspec": {
   "display_name": "Python 3 (ipykernel)",
   "language": "python",
   "name": "python3"
  },
  "language_info": {
   "codemirror_mode": {
    "name": "ipython",
    "version": 3
   },
   "file_extension": ".py",
   "mimetype": "text/x-python",
   "name": "python",
   "nbconvert_exporter": "python",
   "pygments_lexer": "ipython3",
   "version": "3.11.6"
  }
 },
 "nbformat": 4,
 "nbformat_minor": 5
}
